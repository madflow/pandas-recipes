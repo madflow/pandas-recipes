{
 "metadata": {
  "name": ""
 },
 "nbformat": 3,
 "nbformat_minor": 0,
 "worksheets": [
  {
   "cells": [
    {
     "cell_type": "code",
     "collapsed": false,
     "input": [
      "'Pandas amd Vincent'\n",
      "import pandas as pd\n",
      "import numpy as np\n",
      "from vincent import *\n",
      "\n",
      "'Helpers'\n",
      "import requests as req\n",
      "import json"
     ],
     "language": "python",
     "metadata": {},
     "outputs": [],
     "prompt_number": 9
    },
    {
     "cell_type": "code",
     "collapsed": false,
     "input": [
      "'Fetch some OpenData'\n",
      "arrests = req.get('https://data.cityofnewyork.us/resource/d4uz-6jaw.json').text\n",
      "data=json.loads(arrests)\n",
      "\n",
      "df = pd.DataFrame(data)\n",
      "\n",
      "stats = df['number_of_arrests'].astype(float).describe()\n",
      "\n"
     ],
     "language": "python",
     "metadata": {},
     "outputs": [],
     "prompt_number": 29
    },
    {
     "cell_type": "code",
     "collapsed": false,
     "input": [
      "print df"
     ],
     "language": "python",
     "metadata": {},
     "outputs": [
      {
       "output_type": "stream",
       "stream": "stdout",
       "text": [
        "  fiscal_year number_of_arrests\n",
        "0        2010               526\n",
        "1        2009               567\n",
        "2        2008               751\n",
        "3        2007               738\n",
        "4        2006               654\n",
        "5        2005               684\n",
        "6        2004               628\n",
        "7        2003               671\n",
        "8        2002               576\n",
        "9        2001               853\n"
       ]
      }
     ],
     "prompt_number": 30
    },
    {
     "cell_type": "code",
     "collapsed": false,
     "input": [],
     "language": "python",
     "metadata": {},
     "outputs": []
    }
   ],
   "metadata": {}
  }
 ]
}